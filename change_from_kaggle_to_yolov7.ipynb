{
 "cells": [
  {
   "cell_type": "markdown",
   "metadata": {},
   "source": [
    "# Convert the Training dataset from Kaggle Comp Format to YOLOV7 format"
   ]
  },
  {
   "cell_type": "code",
   "execution_count": 1,
   "metadata": {},
   "outputs": [],
   "source": [
    "import cv2\n",
    "import matplotlib.pyplot as plt\n",
    "import os\n",
    "from copy import copy\n",
    "import numpy as np\n",
    "from skimage.color import rgb2hsv, hsv2rgb\n",
    "from skimage.exposure import histogram, equalize_hist\n",
    "import pandas as pd\n",
    "import json\n",
    "import re\n",
    "from scipy.stats import skew"
   ]
  },
  {
   "cell_type": "markdown",
   "metadata": {},
   "source": [
    "## Make the relevant directories"
   ]
  },
  {
   "cell_type": "code",
   "execution_count": null,
   "metadata": {},
   "outputs": [],
   "source": [
    "# Change this to wherever you want to store the yolov7 dataset\n",
    "yolov7_dataset_dir = 'E:/UNSW\\COMP9517/group_project/great_barrier_reef_yolov7'\n",
    "\n",
    "os.mkdir(os.path.join(yolov7_dataset_dir,'train/images'))\n",
    "os.mkdir(os.path.join(yolov7_dataset_dir,'train/labels'))"
   ]
  },
  {
   "cell_type": "code",
   "execution_count": 10,
   "metadata": {},
   "outputs": [
    {
     "name": "stdout",
     "output_type": "stream",
     "text": [
      "['0-16' '0-17' '0-18' ... '2-10630' '2-10631' '2-10632']\n"
     ]
    }
   ],
   "source": [
    "# set this to the directory of the training csv \n",
    "training_csv_dir = 'E:/UNSW/COMP9517/group_project/tensorflow-great-barrier-reef/train.csv'\n",
    "training_img_metadata = pd.read_csv(training_csv_dir)[[\"image_id\", 'annotations']]\n",
    "\n",
    "\n"
   ]
  }
 ],
 "metadata": {
  "kernelspec": {
   "display_name": "Python 3.10.4 ('compviz')",
   "language": "python",
   "name": "python3"
  },
  "language_info": {
   "codemirror_mode": {
    "name": "ipython",
    "version": 3
   },
   "file_extension": ".py",
   "mimetype": "text/x-python",
   "name": "python",
   "nbconvert_exporter": "python",
   "pygments_lexer": "ipython3",
   "version": "3.10.4"
  },
  "orig_nbformat": 4,
  "vscode": {
   "interpreter": {
    "hash": "cf07db9fb9c57c576640dc49cc0856bc1d7f770b56dbcc41c0d560b9766bf303"
   }
  }
 },
 "nbformat": 4,
 "nbformat_minor": 2
}
